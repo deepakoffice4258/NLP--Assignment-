{
 "cells": [
  {
   "cell_type": "markdown",
   "id": "ef9c7ad6",
   "metadata": {},
   "source": [
    "# 1. Can you think of a few applications for a sequence-to-sequence RNN? What about a sequence-to-vector RNN? And a vector-to-sequence RNN?"
   ]
  },
  {
   "cell_type": "markdown",
   "id": "e8c32281",
   "metadata": {},
   "source": [
    "In Sequence to Sequence Learning, RNN is trained to map an input sequence to an output sequence which is not necessarily of the same length. Applications are speech recognition, machine translation, image captioning and question answeringDecoder Architecture. The Encoder RNN reads the input sequence and generates the ﬁxed-size context vector which represents a semantic summary of the input sequence. The fixed-size context vector is given as input to the decoder RNN"
   ]
  },
  {
   "cell_type": "markdown",
   "id": "7413e6d6",
   "metadata": {},
   "source": [
    "# 2. Why do people use encoder–decoder RNNs rather than plain sequence-to-sequence RNNs for automatic translation?"
   ]
  },
  {
   "cell_type": "markdown",
   "id": "090ee176",
   "metadata": {},
   "source": [
    "Attention is an extension to the architecture that addresses this limitation. It works by first providing a richer context from the encoder to the decoder and a learning mechanism where the decoder can learn where to pay attention in the richer encoding when predicting each time step in the output sequence."
   ]
  },
  {
   "cell_type": "markdown",
   "id": "6f3d5b3d",
   "metadata": {},
   "source": [
    "# 3. How could you combine a convolutional neural network with an RNN to classify videos?"
   ]
  },
  {
   "cell_type": "markdown",
   "id": "ff326f5a",
   "metadata": {},
   "source": [
    "Taking advantage of the strengths of both CNN and RNN, the combination outperforms those individual models. Another method to combine them together is to let RNN encode the input representation and feed the outputs into CNN"
   ]
  },
  {
   "cell_type": "markdown",
   "id": "0454aed3",
   "metadata": {},
   "source": [
    "# 4. What are the advantages of building an RNN using dynamic_rnn() rather than static_rnn()?"
   ]
  },
  {
   "cell_type": "markdown",
   "id": "8c7cddad",
   "metadata": {},
   "source": [
    "The principal advantage of RNN over ANN is that RNN can model a collection of records (i.e. time collection) so that each pattern can be assumed to be dependent on previous ones. Recurrent neural networks are even used with convolutional layers to extend the powerful pixel neighbourhood"
   ]
  },
  {
   "cell_type": "markdown",
   "id": "6bd6dbd5",
   "metadata": {},
   "source": [
    "# 5. How can you deal with variable-length input sequences? What about variable-length output sequences?"
   ]
  },
  {
   "cell_type": "markdown",
   "id": "db1faa54",
   "metadata": {},
   "source": [
    "In the case of variable length sequence prediction problems, this requires that your data be transformed such that each sequence has the same length. This vectorization allows code to efficiently perform the matrix operations in batch for your chosen deep learning algorithms.You can use an autoencoder to learn a new representation length for long sequences, then a decoder network to interpret the encoded representation into the desired output."
   ]
  },
  {
   "cell_type": "markdown",
   "id": "56e5f533",
   "metadata": {},
   "source": [
    "# 6. What is a common way to distribute training and execution of a deep RNN across multiple GPUs?"
   ]
  },
  {
   "cell_type": "markdown",
   "id": "6e74ce74",
   "metadata": {},
   "source": [
    "In this type of distributed training, data is split up and processed in parallel. Each worker node trains a copy of the model on a different batch of training data, communicating its results after computation to keep the model parameters and gradients in sync across all nodes."
   ]
  }
 ],
 "metadata": {
  "kernelspec": {
   "display_name": "Python 3",
   "language": "python",
   "name": "python3"
  },
  "language_info": {
   "codemirror_mode": {
    "name": "ipython",
    "version": 3
   },
   "file_extension": ".py",
   "mimetype": "text/x-python",
   "name": "python",
   "nbconvert_exporter": "python",
   "pygments_lexer": "ipython3",
   "version": "3.8.8"
  }
 },
 "nbformat": 4,
 "nbformat_minor": 5
}
